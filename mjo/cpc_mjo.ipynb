{
 "cells": [
  {
   "cell_type": "markdown",
   "id": "19f8151b-fff6-47ce-9362-325a658717e2",
   "metadata": {},
   "source": [
    "# CPC MJO Replication"
   ]
  },
  {
   "cell_type": "code",
   "execution_count": 5,
   "id": "a35cce79-192e-4029-af10-579d179cf8d8",
   "metadata": {},
   "outputs": [],
   "source": [
    "import numpy as np\n",
    "import netCDF4 as nc\n",
    "import os, sys, time, re\n",
    "import math\n",
    "import datetime\n",
    "from datetime import date, timedelta\n",
    "from scipy.interpolate import griddata"
   ]
  },
  {
   "cell_type": "markdown",
   "id": "05339f60-aa75-4ad1-b7ae-80a6b2cabec1",
   "metadata": {},
   "source": [
    "### Define the Data Array"
   ]
  },
  {
   "cell_type": "code",
   "execution_count": 6,
   "id": "a314a4e2-40f6-4461-bafa-e51345188c65",
   "metadata": {},
   "outputs": [],
   "source": [
    "def date_range(start, end):\n",
    "    days = []\n",
    "    delta = end - start\n",
    "    for i in range(delta.days+1):\n",
    "        days.append((start+timedelta(days=i)).strftime(\"%Y-%m-%d\"))\n",
    "    return days\n",
    "\n",
    "start_date = datetime.date(1950, 1, 1)\n",
    "end_date = datetime.date(2023, 2, 28)\n",
    "datesd = date_range(start_date, end_date)\n",
    "\n",
    "num_days = len(datesd)"
   ]
  },
  {
   "cell_type": "code",
   "execution_count": 14,
   "id": "6b7111aa-fda3-4835-95ed-9678d06ae836",
   "metadata": {},
   "outputs": [
    {
     "name": "stdout",
     "output_type": "stream",
     "text": [
      "Start Date: 1950-01-01\n",
      "End Date: 2023-02-28\n",
      "['1950-01-01', '1950-01-02'] to ['2023-02-27', '2023-02-28']\n",
      "Number of days: 26722\n"
     ]
    }
   ],
   "source": [
    "print(f\"Start Date: {start_date}\")\n",
    "print(f\"End Date: {end_date}\")\n",
    "print(f\"{datesd[:2]} to {datesd[-2:]}\")\n",
    "print(f\"Number of days: {num_days}\")"
   ]
  },
  {
   "cell_type": "markdown",
   "id": "801e4bfb-ef84-48cc-952f-2aa2166409b9",
   "metadata": {},
   "source": [
    "### Define Target and Data Dimensions\n",
    "\n",
    "Define dimensions, using only the tropical latitudes (-15 to 15 degrees)"
   ]
  },
  {
   "cell_type": "code",
   "execution_count": 15,
   "id": "a99b534e-d27e-44b9-9bd0-f4c5f29b56d1",
   "metadata": {},
   "outputs": [],
   "source": [
    "min_lat = -15\n",
    "max_lat = 15"
   ]
  },
  {
   "cell_type": "code",
   "execution_count": 18,
   "id": "15dc99ab-82fc-4975-b7d3-2564d5e4386c",
   "metadata": {},
   "outputs": [],
   "source": [
    "target_lat = np.arange(-15.00, 15.0+0.5, 2.5)\n",
    "target_lon = np.arange(1.25, 360, 2.5)\n",
    "target_x, target_y = np.meshgrid(target_lon, target_lat)"
   ]
  },
  {
   "cell_type": "code",
   "execution_count": 32,
   "id": "a92b05b6-711b-415e-b5ab-7fd53c83beaf",
   "metadata": {},
   "outputs": [],
   "source": [
    "# Full Range\n",
    "clon = np.arange(0,360,1.0)\n",
    "clat = np.arange(-90,90+0.5,1.0)"
   ]
  },
  {
   "cell_type": "code",
   "execution_count": 33,
   "id": "ca47f083-92f4-486d-a5e4-ec9b2c5c9d2f",
   "metadata": {},
   "outputs": [
    {
     "name": "stdout",
     "output_type": "stream",
     "text": [
      "[ 75  76  77  78  79  80  81  82  83  84  85  86  87  88  89  90  91  92\n",
      "  93  94  95  96  97  98  99 100 101 102 103 104 105]\n"
     ]
    }
   ],
   "source": [
    "# Range of values between the max and min latitude values\n",
    "cy = np.where(np.logical_and(clat>=min_lat, clat<=max_lat))[0]\n",
    "print(cy)"
   ]
  },
  {
   "cell_type": "code",
   "execution_count": 34,
   "id": "9e0f4d63-5ae4-4170-85e4-1414b91316e9",
   "metadata": {},
   "outputs": [
    {
     "name": "stdout",
     "output_type": "stream",
     "text": [
      "Original: [-90. -89. -88. -87. -86. -85. -84. -83. -82. -81. -80. -79. -78. -77.\n",
      " -76. -75. -74. -73. -72. -71. -70. -69. -68. -67. -66. -65. -64. -63.\n",
      " -62. -61. -60. -59. -58. -57. -56. -55. -54. -53. -52. -51. -50. -49.\n",
      " -48. -47. -46. -45. -44. -43. -42. -41. -40. -39. -38. -37. -36. -35.\n",
      " -34. -33. -32. -31. -30. -29. -28. -27. -26. -25. -24. -23. -22. -21.\n",
      " -20. -19. -18. -17. -16. -15. -14. -13. -12. -11. -10.  -9.  -8.  -7.\n",
      "  -6.  -5.  -4.  -3.  -2.  -1.   0.   1.   2.   3.   4.   5.   6.   7.\n",
      "   8.   9.  10.  11.  12.  13.  14.  15.  16.  17.  18.  19.  20.  21.\n",
      "  22.  23.  24.  25.  26.  27.  28.  29.  30.  31.  32.  33.  34.  35.\n",
      "  36.  37.  38.  39.  40.  41.  42.  43.  44.  45.  46.  47.  48.  49.\n",
      "  50.  51.  52.  53.  54.  55.  56.  57.  58.  59.  60.  61.  62.  63.\n",
      "  64.  65.  66.  67.  68.  69.  70.  71.  72.  73.  74.  75.  76.  77.\n",
      "  78.  79.  80.  81.  82.  83.  84.  85.  86.  87.  88.  89.  90.]\n",
      "Filtered: [-15. -14. -13. -12. -11. -10.  -9.  -8.  -7.  -6.  -5.  -4.  -3.  -2.\n",
      "  -1.   0.   1.   2.   3.   4.   5.   6.   7.   8.   9.  10.  11.  12.\n",
      "  13.  14.  15.]\n"
     ]
    }
   ],
   "source": [
    "# Filter clat based on range of min/max latitude values\n",
    "print(f\"Original: {clat}\")\n",
    "clat = clat[cy]\n",
    "print(f\"Filtered: {clat}\")"
   ]
  },
  {
   "cell_type": "code",
   "execution_count": 36,
   "id": "7bd7f0b1-6e75-47e2-957d-cfc210456411",
   "metadata": {},
   "outputs": [],
   "source": [
    "# Input is the full range of longtiude, but filtered to only tropical lattitudes\n",
    "input_x, input_y = np.meshgrid(clon, clat)"
   ]
  },
  {
   "cell_type": "markdown",
   "id": "3bccb6a0-05da-4878-9148-5123d9a90ad0",
   "metadata": {},
   "source": [
    "### Collect Staged Data in .nc Format"
   ]
  },
  {
   "cell_type": "code",
   "execution_count": 38,
   "id": "ce1a980f-313a-4204-b5b8-c879e2e79a82",
   "metadata": {},
   "outputs": [],
   "source": [
    "# Set up zero meshes for MJO formats u850, u200, and olr\n",
    "u850 = np.zeros([num_days,len(clat),len(clon)],dtype='f')\n",
    "u200 = np.zeros([num_days,len(clat),len(clon)],dtype='f')\n",
    "olr = np.zeros([num_days,len(clat),len(clon)],dtype='f')"
   ]
  },
  {
   "cell_type": "markdown",
   "id": "40926db6-f383-4cd3-af96-524c114e7b56",
   "metadata": {},
   "source": [
    "### Reading in U850 NetCDF4 Data"
   ]
  },
  {
   "cell_type": "code",
   "execution_count": 39,
   "id": "7630ae60-730d-4adc-b614-b19972743674",
   "metadata": {},
   "outputs": [
    {
     "ename": "FileNotFoundError",
     "evalue": "[Errno 2] No such file or directory: 'input_daily_u850_anom_data'",
     "output_type": "error",
     "traceback": [
      "\u001b[31m---------------------------------------------------------------------------\u001b[39m",
      "\u001b[31mFileNotFoundError\u001b[39m                         Traceback (most recent call last)",
      "\u001b[36mCell\u001b[39m\u001b[36m \u001b[39m\u001b[32mIn[39]\u001b[39m\u001b[32m, line 1\u001b[39m\n\u001b[32m----> \u001b[39m\u001b[32m1\u001b[39m infile = \u001b[43mnc\u001b[49m\u001b[43m.\u001b[49m\u001b[43mDataset\u001b[49m\u001b[43m(\u001b[49m\u001b[33;43m'\u001b[39;49m\u001b[33;43minput_daily_u850_anom_data\u001b[39;49m\u001b[33;43m'\u001b[39;49m\u001b[43m,\u001b[49m\u001b[43m \u001b[49m\u001b[43mmode\u001b[49m\u001b[43m=\u001b[49m\u001b[33;43m'\u001b[39;49m\u001b[33;43mr\u001b[39;49m\u001b[33;43m'\u001b[39;49m\u001b[43m)\u001b[49m\n",
      "\u001b[36mFile \u001b[39m\u001b[32msrc/netCDF4/_netCDF4.pyx:2521\u001b[39m, in \u001b[36mnetCDF4._netCDF4.Dataset.__init__\u001b[39m\u001b[34m()\u001b[39m\n",
      "\u001b[36mFile \u001b[39m\u001b[32msrc/netCDF4/_netCDF4.pyx:2158\u001b[39m, in \u001b[36mnetCDF4._netCDF4._ensure_nc_success\u001b[39m\u001b[34m()\u001b[39m\n",
      "\u001b[31mFileNotFoundError\u001b[39m: [Errno 2] No such file or directory: 'input_daily_u850_anom_data'"
     ]
    }
   ],
   "source": [
    "infile = nc.Dataset('input_daily_u850_anom_data', mode='r')"
   ]
  },
  {
   "cell_type": "code",
   "execution_count": null,
   "id": "8229a83c-5fac-45f7-bceb-029f9300a7c7",
   "metadata": {},
   "outputs": [],
   "source": []
  }
 ],
 "metadata": {
  "kernelspec": {
   "display_name": "Python 3 (ipykernel)",
   "language": "python",
   "name": "python3"
  },
  "language_info": {
   "codemirror_mode": {
    "name": "ipython",
    "version": 3
   },
   "file_extension": ".py",
   "mimetype": "text/x-python",
   "name": "python",
   "nbconvert_exporter": "python",
   "pygments_lexer": "ipython3",
   "version": "3.11.13"
  }
 },
 "nbformat": 4,
 "nbformat_minor": 5
}
