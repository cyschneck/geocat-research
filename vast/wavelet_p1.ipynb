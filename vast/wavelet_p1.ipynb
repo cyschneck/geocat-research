{
 "cells": [
  {
   "cell_type": "markdown",
   "id": "2b1bff95-7a07-4e3f-9adb-e78fc99be2ba",
   "metadata": {},
   "source": [
    "# Wavelet Analysis: Part One"
   ]
  },
  {
   "cell_type": "markdown",
   "id": "43bee0cf-33a2-4ef4-b02d-46225a08d99c",
   "metadata": {},
   "source": [
    "## Background and Motivation"
   ]
  },
  {
   "cell_type": "code",
   "execution_count": 64,
   "id": "b3ea1567-e8e9-448d-aec3-02df1f468207",
   "metadata": {},
   "outputs": [],
   "source": [
    "import numpy as np\n",
    "import matplotlib.pyplot as plt\n",
    "from scipy.fftpack import fft, fftfreq\n",
    "from scipy.io import wavfile\n",
    "import math\n",
    "plt.style.use('dark_background')"
   ]
  },
  {
   "cell_type": "code",
   "execution_count": 66,
   "id": "e1cf48ef-8c1a-41d0-a21d-c4365cfc9270",
   "metadata": {},
   "outputs": [],
   "source": [
    "# Fast Fourier Transform\n",
    "\n",
    "# Load .wav file data\n",
    "sample_rate, signal_data = wavfile.read('mystery_signal.wav')\n",
    "audio = signal_data[:sample_rate]\n",
    "N = len(audio)\n",
    "period = 1 / sample_rate"
   ]
  },
  {
   "cell_type": "code",
   "execution_count": null,
   "id": "b02dd518-8bb8-4746-b212-a8d3e1458ba4",
   "metadata": {},
   "outputs": [],
   "source": []
  },
  {
   "cell_type": "code",
   "execution_count": null,
   "id": "06cebef3-8c17-461e-937a-4f4369fbdde3",
   "metadata": {},
   "outputs": [],
   "source": [
    "Y_k = np.fft.fft(signal_data)[0:int(N/2)]/N # FFT function from numpy\n",
    "Y_k[1:] = 2*Y_k[1:] # need to take the single-sided spectrum only\n",
    "Pxx = np.abs(Y_k) # be sure to get rid of imaginary part\n",
    "f = sample_rate*np.arange((N/2))/N; # frequency vector\n",
    "plt.plot(f,Pxx,linewidth=5)\n",
    "ax.set_xscale('log')\n",
    "ax.set_yscale('log')\n",
    "plt.axvline(x=350*10)\n",
    "plt.ylabel('Amplitude')\n",
    "plt.xlabel('Frequency [Hz]')\n",
    "plt.show()"
   ]
  }
 ],
 "metadata": {
  "kernelspec": {
   "display_name": "Python 3 (ipykernel)",
   "language": "python",
   "name": "python3"
  },
  "language_info": {
   "codemirror_mode": {
    "name": "ipython",
    "version": 3
   },
   "file_extension": ".py",
   "mimetype": "text/x-python",
   "name": "python",
   "nbconvert_exporter": "python",
   "pygments_lexer": "ipython3",
   "version": "3.11.8"
  }
 },
 "nbformat": 4,
 "nbformat_minor": 5
}
