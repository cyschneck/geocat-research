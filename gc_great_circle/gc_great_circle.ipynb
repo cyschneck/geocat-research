{
 "cells": [
  {
   "cell_type": "markdown",
   "id": "849f89ee-e73c-407e-9ad0-f348b2441bde",
   "metadata": {},
   "source": [
    "## Great Circle Calculation"
   ]
  },
  {
   "cell_type": "code",
   "execution_count": 17,
   "id": "67471173-f8d0-48c4-8f17-43aa3858061a",
   "metadata": {},
   "outputs": [],
   "source": [
    "import numpy as np"
   ]
  },
  {
   "cell_type": "code",
   "execution_count": 3,
   "id": "085cc53a-a7ce-428b-9643-7ba865674076",
   "metadata": {},
   "outputs": [],
   "source": [
    "# Convert Latitude, Longitude, Radius to a Cartesian Coordinate System\n",
    "\n",
    "boulder_lat = 40.0150\n",
    "boulder_lon = -105.2705\n",
    "boston_lat = 42.3601\n",
    "boston_lon = -71.0589\n",
    "earth_radius = 6378137  # meters, WSG-84: https://gscommunitycodes.usf.edu/geoscicommunitycodes/public/geophysics/Gravity/earth_shape.php"
   ]
  },
  {
   "cell_type": "markdown",
   "id": "3c83a222-f4fe-4950-a09d-d3f64c22c31d",
   "metadata": {},
   "source": [
    "## Cartesian Coordinates\n",
    "\n",
    "Cartesian coordinates describe points in space based on perpendicular axis lines that meet at a singlle point of orign, where any point's position is described based on the distance to the orgin along xyz axis"
   ]
  },
  {
   "cell_type": "code",
   "execution_count": 23,
   "id": "278260e5-5824-4fce-89e4-89baf3a3a0f6",
   "metadata": {},
   "outputs": [],
   "source": [
    "def to_cartesian_coords(latitude=None, longitude=None, radius=None):\n",
    "    cart_x = radius * np.cos(latitude) * np.cos(longitude)\n",
    "    cart_y = radius * np.cos(latitude) * np.sin(longitude)\n",
    "    cart_z = radius * np.sin(latitude)\n",
    "    return cart_x, cart_y, cart_z"
   ]
  },
  {
   "cell_type": "code",
   "execution_count": 24,
   "id": "6f6bcff3-fccf-48f6-b5a4-8b8e8e6a1124",
   "metadata": {},
   "outputs": [
    {
     "name": "stdout",
     "output_type": "stream",
     "text": [
      "{'latitude': 40.015, 'longitude': -105.2705, 'cart_x': -117382.37626000034, 'cart_y': -4323034.280763086, 'cart_z': 4688094.237092482}\n"
     ]
    }
   ],
   "source": [
    "# Boulder Cartesian Coordinates\n",
    "boulder_coords = {\"latitude\": boulder_lat, \"longitude\": boulder_lon}\n",
    "cart_x, cart_y, cart_z = to_cartesian_coords(boulder_lat, boulder_lon, earth_radius)\n",
    "boulder_coords[\"cart_x\"] = cart_x\n",
    "boulder_coords[\"cart_y\"] = cart_y\n",
    "boulder_coords[\"cart_z\"] = cart_z\n",
    "print(boulder_coords)"
   ]
  },
  {
   "cell_type": "code",
   "execution_count": 25,
   "id": "ea61bc4f-55e0-4648-82e0-b4e502650952",
   "metadata": {},
   "outputs": [
    {
     "name": "stdout",
     "output_type": "stream",
     "text": [
      "{'latitude': 42.3601, 'longitude': -71.0589, 'cart_x': -8894.608669512068, 'cart_y': -327576.41664284625, 'cart_z': -6369713.193540589}\n"
     ]
    }
   ],
   "source": [
    "# Boston Cartesian Coordinates\n",
    "boston_coords = {\"latitude\": boston_lat, \"longitude\": boston_lon}\n",
    "cart_x, cart_y, cart_z = to_cartesian_coords(boston_lat, boulder_lon, earth_radius)\n",
    "boston_coords[\"cart_x\"] = cart_x\n",
    "boston_coords[\"cart_y\"] = cart_y\n",
    "boston_coords[\"cart_z\"] = cart_z\n",
    "print(boston_coords)"
   ]
  },
  {
   "cell_type": "markdown",
   "id": "d24bd077-1dd0-4b53-a1ff-e478972d459e",
   "metadata": {},
   "source": [
    "## Spherical Coordinates\n",
    "\n",
    "Spherical coordinates describe points in space based on three values: radial distance (rho, r) along the radial line between point and the origin, polar angle (theta, θ) between the radial line and the polar axis, and azimuth angle (phi, φ) which is the angle of rotation of the radial line around the polar axis. With a fixed radius, the 3-point coordinates (r, θ, φ) provide a coordiante along a sphere\n",
    "\n",
    "- Radial distance: distance from center to surface of sphere\n",
    "- Polar angle: angle between radial line and polar axis\n",
    "- Azimuth angle: angle around polar axis\n",
    "\n",
    "<p align=\"center\">\n",
    "  <img src=\"https://upload.wikimedia.org/wikipedia/commons/thumb/8/82/Sphericalcoordinates.svg/1024px-Sphericalcoordinates.svg.png\" alt=\"Spherical Coordinate Description from Wikipedia\" width=400 />\n",
    "</p>"
   ]
  },
  {
   "cell_type": "code",
   "execution_count": 39,
   "id": "418d90f7-08fd-452d-bd98-9c28752cc778",
   "metadata": {},
   "outputs": [],
   "source": [
    "# https://math.libretexts.org/Courses/Mount_Royal_University/MATH_2200%3A_Calculus_for_Scientists_II/7%3A_Vector_Spaces/5.7%3A_Cylindrical_and_Spherical_Coordinates\n",
    "def cartestian_to_spherical(cart_x, cart_y, cart_z):\n",
    "    # Convert from rectangular coordinates to spherical coordinates\n",
    "    rho = np.sqrt(cart_x**2 + cart_y**2 + cart_z**2)\n",
    "    theta = np.arctan(cart_y/cart_x)\n",
    "    phi = np.arccos(cart_z / rho)\n",
    "    return rho, theta, phi    "
   ]
  },
  {
   "cell_type": "code",
   "execution_count": 40,
   "id": "eca4dfc5-d968-4010-953f-05d4bda929e9",
   "metadata": {},
   "outputs": [
    {
     "name": "stdout",
     "output_type": "stream",
     "text": [
      "{'latitude': 40.015, 'longitude': -105.2705, 'cart_x': -117382.37626000034, 'cart_y': -4323034.280763086, 'cart_z': 4688094.237092482, 'rho': 6378137.0, 'theta': 1.5436502220529718, 'phi': 0.7450918301275852}\n"
     ]
    }
   ],
   "source": [
    "# Boulder Spherical Coordinates\n",
    "rho, theta, phi = cartestian_to_spherical(boulder_coords[\"cart_x\"], boulder_coords[\"cart_y\"], boulder_coords[\"cart_z\"])\n",
    "boulder_coords[\"rho\"] = rho\n",
    "boulder_coords[\"theta\"] = theta\n",
    "boulder_coords[\"phi\"] = phi\n",
    "print(boulder_coords)"
   ]
  },
  {
   "cell_type": "code",
   "execution_count": 41,
   "id": "522f0900-d2d0-43de-b419-a10b77d2d9dd",
   "metadata": {},
   "outputs": [
    {
     "name": "stdout",
     "output_type": "stream",
     "text": [
      "{'latitude': 42.3601, 'longitude': -71.0589, 'cart_x': -8894.608669512068, 'cart_y': -327576.41664284625, 'cart_z': -6369713.193540589, 'rho': 6378137.0, 'theta': 1.5436502220529718, 'phi': 3.0901918301275884}\n"
     ]
    }
   ],
   "source": [
    "# Boston Spherical Coordinates\n",
    "rho, theta, phi = cartestian_to_spherical(boston_coords[\"cart_x\"], boston_coords[\"cart_y\"], boston_coords[\"cart_z\"])\n",
    "boston_coords[\"rho\"] = rho\n",
    "boston_coords[\"theta\"] = theta\n",
    "boston_coords[\"phi\"] = phi\n",
    "print(boston_coords)"
   ]
  },
  {
   "cell_type": "code",
   "execution_count": null,
   "id": "7362b2b5-0b32-435f-b90e-a22edd5eed8a",
   "metadata": {},
   "outputs": [],
   "source": [
    "READ THIS: https://www.nosco.ch/mathematics/en/great-circle.php"
   ]
  },
  {
   "cell_type": "markdown",
   "id": "66893f41-85bc-419f-83a4-db99a0ef0eff",
   "metadata": {},
   "source": [
    "> A great circle is a section of a sphere that contains a diamter of the sphere...A great circle becomes a straight line in a gnomoni c projection\n",
    "> To find the great circle (geodesic) distance between two points located at latitude `delta` and longitude `lambda` of (delta_1, lamba_1) and (delta_2, lambda_2) on a sphere of radius a\n",
    "\n",
    "[Wolfram MathWorld](https://mathworld.wolfram.com/GreatCircle.html)\n",
    "\n",
    "1. Convert spherical coordinates to Cartesian coordinates using:\n",
    "\n",
    "```\n",
    "        | cos(lambda_i) * cos(delta_i) |\n",
    "r_i = a | sin(lambda_i) * cos(delta_i) |\n",
    "        |        sin(delta_i)          |\n",
    "```\n",
    "2. Find the angle `alpha` between r1 and r2 using the dot product\n",
    "```\n",
    "cos(alpha) = r_1_hat * r_2_hat\n",
    "cos(alpha) = cos(delta_1) * cos(delta_2) * cos(lambda_1 - lambda_2) + sin(delta_1) * sin(delta_2)\n",
    "```\n",
    "3. The great circle distance is then: where a = 6378 km\n",
    "```\n",
    "d = a * cos^-1[cos(delta_1) * cos(delta_2) * cos(lambda_1 - lambda_2) + sin(delta_1) * sin(delta_2)]\n",
    "```"
   ]
  },
  {
   "cell_type": "markdown",
   "id": "200f431a-a0c8-4c26-9743-baab84579c51",
   "metadata": {},
   "source": [
    "- [gc_aangle](https://www.ncl.ucar.edu/Document/Functions/Built-in/gc_aangle.shtml):  Finds the acute angle between two great circles on the globe. \n",
    "- [gc_clkwise](https://www.ncl.ucar.edu/Document/Functions/Built-in/gc_clkwise.shtml):  Tests clockwise/counterclockwise ordering of points on spherical polygon. \n",
    "- [gc_dangle](https://www.ncl.ucar.edu/Document/Functions/Built-in/gc_dangle.shtml):  Finds the directed angle between two great circles having a specified intersection point. \n",
    "- [gc_inout](https://www.ncl.ucar.edu/Document/Functions/Built-in/gc_inout.shtml):  Determines if a list of lat/lon specified points are inside or outside of spherical lat/lon polygon(s). \n",
    "- [gc_latlon](https://www.ncl.ucar.edu/Document/Functions/Built-in/gc_latlon.shtml): Finds the great circle distance (true surface distance) between two points on the globe and interpolates points along the great circle. \n",
    "- [gc_onarc](https://www.ncl.ucar.edu/Document/Functions/Built-in/gc_onarc.shtml):  Determines if a point on the globe lies on a specified great circle arc. \n",
    "- [gc_pnt2gc](https://www.ncl.ucar.edu/Document/Functions/Built-in/gc_pnt2gc.shtml):  Finds the angular distance from a point to a great circle. \n",
    "- [gc_qarea](https://www.ncl.ucar.edu/Document/Functions/Built-in/gc_qarea.shtml):  Finds the area of a quadrilateral patch on the unit sphere. \n",
    "- [gc_tarea](https://www.ncl.ucar.edu/Document/Functions/Built-in/gc_tarea.shtml):  Finds the area of a triangular patch on the unit sphere. "
   ]
  },
  {
   "cell_type": "code",
   "execution_count": 29,
   "id": "091a678a-e10c-4fda-8253-567e8afe4fc8",
   "metadata": {},
   "outputs": [],
   "source": [
    "from pyproj import Geod\n",
    "geodesic = Geod(ellps=\"WGS84\")"
   ]
  },
  {
   "cell_type": "markdown",
   "id": "a6913c2a-cef9-446a-9cb9-26e85d731e5b",
   "metadata": {},
   "source": [
    "## gc_aangle\n",
    "\n",
    "This function finds the acute angle between two great circles, given two pairs of points on the globe that define two arcs. \n",
    "\n",
    "### Input:\n",
    "Latitudes and longitudes, in degrees, of vertices. The first two pairs of lat/lon values specify vertices of an arc of one great circle and the second two pairs specify the vertices of the second circle. These can be multi-dimensional arrays, but the rightmost dimension size must be 4 for specifying the vertices of the two arcs. If lat and lon have more than one dimension, then they must agree in number of dimensions and dimension sizes.\n",
    "Return value\n",
    "### Output\n",
    "The acute angle, in degrees, between the great circles defined by the arcs as describe above. This will be a non-negative value. If the input arrays are singly dimensioned, then the return value will be a scalar. If the input arrays are multi-dimensional, then the returned array will have one less dimension than the number of dimensions of the input arrays and the dimension sizes of the returned array will agree with those of the input arrays up through their penultimate dimension. The return value will be of type double if either of the input arguments is of type double and type float otherwise."
   ]
  },
  {
   "cell_type": "code",
   "execution_count": 57,
   "id": "3976bd7d-7777-4bc2-99ba-dbecedeba458",
   "metadata": {},
   "outputs": [
    {
     "name": "stdout",
     "output_type": "stream",
     "text": [
      "(0.0, 0.0)\n",
      "(0.0, 10.0)\n",
      "(10.0, 0.0)\n",
      "(0.0, 0.0)\n",
      "forward bearing = 90.0 degrees\n",
      "reverse bearing = -90.0 degrees\n",
      "distance_m = 1113.1949079327358 km\n"
     ]
    }
   ],
   "source": [
    "aangle = ((0.0,  0.0, 0.0,  10.0), (0.0, 10.0, 0.0,   0.0))\n",
    "arc_1_start  = (aangle[0][0], aangle[1][0])\n",
    "arc_1_end    = (aangle[0][1], aangle[1][1])\n",
    "arc_2_start  = (aangle[0][2], aangle[1][2])\n",
    "arc_2_end    = (aangle[0][3], aangle[1][3])\n",
    "\n",
    "print(arc_1_start) # (lat, lon)\n",
    "print(arc_1_end)   # (lat, lon)\n",
    "\n",
    "print(arc_2_end)   # (lat, lon)\n",
    "print(arc_2_start) # (lat, lon)\n",
    "\n",
    "#fwd_bearing, rvs_bearing, distance_m = geodesic.inv(lon_start, lat_start, lon_end, lat_end)\n",
    "fwd_bearing, rvs_bearing, distance_m = geodesic.inv(arc_1_start[1],\n",
    "                                                    arc_1_start[0],\n",
    "                                                    arc_1_end[1],\n",
    "                                                    arc_1_end[0])\n",
    "print(f\"forward bearing = {fwd_bearing} degrees\")\n",
    "print(f\"reverse bearing = {rvs_bearing} degrees\")\n",
    "print(f\"distance_m = {distance_m/1000} km\")"
   ]
  }
 ],
 "metadata": {
  "kernelspec": {
   "display_name": "Python 3 (ipykernel)",
   "language": "python",
   "name": "python3"
  },
  "language_info": {
   "codemirror_mode": {
    "name": "ipython",
    "version": 3
   },
   "file_extension": ".py",
   "mimetype": "text/x-python",
   "name": "python",
   "nbconvert_exporter": "python",
   "pygments_lexer": "ipython3",
   "version": "3.11.8"
  }
 },
 "nbformat": 4,
 "nbformat_minor": 5
}
