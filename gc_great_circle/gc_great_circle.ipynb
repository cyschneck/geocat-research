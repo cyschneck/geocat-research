{
 "cells": [
  {
   "cell_type": "markdown",
   "id": "849f89ee-e73c-407e-9ad0-f348b2441bde",
   "metadata": {},
   "source": [
    "## Great Circle Calculation"
   ]
  },
  {
   "cell_type": "markdown",
   "id": "51a5676e-dab0-401c-8e95-f148c851f517",
   "metadata": {},
   "source": [
    "Overview:\n",
    "- [ ] [gc_aangle](https://www.ncl.ucar.edu/Document/Functions/Built-in/gc_aangle.shtml):  Finds the acute angle between two great circles on the globe. \n",
    "- [ ] [gc_clkwise](https://www.ncl.ucar.edu/Document/Functions/Built-in/gc_clkwise.shtml):  Tests clockwise/counterclockwise ordering of points on spherical polygon. \n",
    "- [ ] [gc_dangle](https://www.ncl.ucar.edu/Document/Functions/Built-in/gc_dangle.shtml):  Finds the directed angle between two great circles having a specified intersection point. \n",
    "- [ ] [gc_inout](https://www.ncl.ucar.edu/Document/Functions/Built-in/gc_inout.shtml):  Determines if a list of lat/lon specified points are inside or outside of spherical lat/lon polygon(s). \n",
    "- [ ] [gc_latlon](https://www.ncl.ucar.edu/Document/Functions/Built-in/gc_latlon.shtml): Finds the great circle distance (true surface distance) between two points on the globe and interpolates points along the great circle. \n",
    "- [ ] [gc_onarc](https://www.ncl.ucar.edu/Document/Functions/Built-in/gc_onarc.shtml):  Determines if a point on the globe lies on a specified great circle arc. \n",
    "- [ ] [gc_pnt2gc](https://www.ncl.ucar.edu/Document/Functions/Built-in/gc_pnt2gc.shtml):  Finds the angular distance from a point to a great circle. \n",
    "- [ ] [gc_qarea](https://www.ncl.ucar.edu/Document/Functions/Built-in/gc_qarea.shtml):  Finds the area of a quadrilateral patch on the unit sphere. \n",
    "- [ ] [gc_tarea](https://www.ncl.ucar.edu/Document/Functions/Built-in/gc_tarea.shtml):  Finds the area of a triangular patch on the unit sphere. "
   ]
  },
  {
   "cell_type": "code",
   "execution_count": 17,
   "id": "67471173-f8d0-48c4-8f17-43aa3858061a",
   "metadata": {},
   "outputs": [],
   "source": [
    "import numpy as np"
   ]
  },
  {
   "cell_type": "code",
   "execution_count": 18,
   "id": "085cc53a-a7ce-428b-9643-7ba865674076",
   "metadata": {},
   "outputs": [],
   "source": [
    "# Convert Latitude, Longitude, Radius to a Cartesian Coordinate System\n",
    "\n",
    "boulder_lat = 40.0150\n",
    "boulder_lon = -105.2705\n",
    "boston_lat = 42.3601\n",
    "boston_lon = -71.0589\n",
    "\n",
    "earth_radius = 6378137  # meters, WSG-84: https://gscommunitycodes.usf.edu/geoscicommunitycodes/public/geophysics/Gravity/earth_shape.php"
   ]
  },
  {
   "cell_type": "markdown",
   "id": "3c83a222-f4fe-4950-a09d-d3f64c22c31d",
   "metadata": {},
   "source": [
    "## Cartesian Coordinates\n",
    "\n",
    "Cartesian coordinates describe points in space based on perpendicular axis lines that meet at a singlle point of orign, where any point's position is described based on the distance to the orgin along xyz axis"
   ]
  },
  {
   "cell_type": "code",
   "execution_count": 19,
   "id": "278260e5-5824-4fce-89e4-89baf3a3a0f6",
   "metadata": {},
   "outputs": [],
   "source": [
    "def latlon_to_cartesian_coords(latitude=None, longitude=None, radius=None):\n",
    "    cart_x = radius * np.cos(latitude) * np.cos(longitude)\n",
    "    cart_y = radius * np.cos(latitude) * np.sin(longitude)\n",
    "    cart_z = radius * np.sin(latitude)\n",
    "    return cart_x, cart_y, cart_z"
   ]
  },
  {
   "cell_type": "code",
   "execution_count": 20,
   "id": "6f6bcff3-fccf-48f6-b5a4-8b8e8e6a1124",
   "metadata": {},
   "outputs": [
    {
     "data": {
      "text/plain": [
       "{'latitude': 40.015,\n",
       " 'longitude': -105.2705,\n",
       " 'cart_x': -117382.37626000034,\n",
       " 'cart_y': -4323034.280763086,\n",
       " 'cart_z': 4688094.237092482}"
      ]
     },
     "execution_count": 20,
     "metadata": {},
     "output_type": "execute_result"
    }
   ],
   "source": [
    "# Boulder Cartesian Coordinates\n",
    "boulder_coords = {\"latitude\": boulder_lat, \"longitude\": boulder_lon}\n",
    "cart_x, cart_y, cart_z = latlon_to_cartesian_coords(boulder_lat, boulder_lon, earth_radius)\n",
    "boulder_coords[\"cart_x\"] = cart_x\n",
    "boulder_coords[\"cart_y\"] = cart_y\n",
    "boulder_coords[\"cart_z\"] = cart_z\n",
    "boulder_coords"
   ]
  },
  {
   "cell_type": "code",
   "execution_count": 21,
   "id": "ea61bc4f-55e0-4648-82e0-b4e502650952",
   "metadata": {},
   "outputs": [
    {
     "data": {
      "text/plain": [
       "{'latitude': 42.3601,\n",
       " 'longitude': -71.0589,\n",
       " 'cart_x': -8894.608669512068,\n",
       " 'cart_y': -327576.41664284625,\n",
       " 'cart_z': -6369713.193540589}"
      ]
     },
     "execution_count": 21,
     "metadata": {},
     "output_type": "execute_result"
    }
   ],
   "source": [
    "# Boston Cartesian Coordinates\n",
    "boston_coords = {\"latitude\": boston_lat, \"longitude\": boston_lon}\n",
    "cart_x, cart_y, cart_z = latlon_to_cartesian_coords(boston_lat, boulder_lon, earth_radius)\n",
    "boston_coords[\"cart_x\"] = cart_x\n",
    "boston_coords[\"cart_y\"] = cart_y\n",
    "boston_coords[\"cart_z\"] = cart_z\n",
    "boston_coords"
   ]
  },
  {
   "cell_type": "markdown",
   "id": "d24bd077-1dd0-4b53-a1ff-e478972d459e",
   "metadata": {},
   "source": [
    "## Spherical Coordinates\n",
    "\n",
    "Spherical coordinates describe points in space based on three values: radial distance (rho, r) along the radial line between point and the origin, polar angle (theta, θ) between the radial line and the polar axis, and azimuth angle (phi, φ) which is the angle of rotation of the radial line around the polar axis. With a fixed radius, the 3-point coordinates (r, θ, φ) provide a coordiante along a sphere\n",
    "\n",
    "- Radial distance: distance from center to surface of sphere\n",
    "- Polar angle: angle between radial line and polar axis\n",
    "- Azimuth angle: angle around polar axis\n",
    "\n",
    "<p align=\"center\">\n",
    "  <img src=\"https://upload.wikimedia.org/wikipedia/commons/thumb/8/82/Sphericalcoordinates.svg/1024px-Sphericalcoordinates.svg.png\" alt=\"Spherical Coordinate Description from Wikipedia\" width=400 />\n",
    "</p>"
   ]
  },
  {
   "cell_type": "code",
   "execution_count": 23,
   "id": "418d90f7-08fd-452d-bd98-9c28752cc778",
   "metadata": {},
   "outputs": [],
   "source": [
    "# https://math.libretexts.org/Courses/Mount_Royal_University/MATH_2200%3A_Calculus_for_Scientists_II/7%3A_Vector_Spaces/5.7%3A_Cylindrical_and_Spherical_Coordinates\n",
    "def cartestian_to_spherical(cart_x, cart_y, cart_z):\n",
    "    # Convert from rectangular coordinates to spherical coordinates\n",
    "    rho = np.sqrt(cart_x**2 + cart_y**2 + cart_z**2)\n",
    "    theta = np.arctan(cart_y/cart_x)\n",
    "    phi = np.arccos(cart_z / rho)\n",
    "    return rho, theta, phi    "
   ]
  },
  {
   "cell_type": "code",
   "execution_count": 24,
   "id": "eca4dfc5-d968-4010-953f-05d4bda929e9",
   "metadata": {},
   "outputs": [
    {
     "data": {
      "text/plain": [
       "{'latitude': 40.015,\n",
       " 'longitude': -105.2705,\n",
       " 'cart_x': -117382.37626000034,\n",
       " 'cart_y': -4323034.280763086,\n",
       " 'cart_z': 4688094.237092482,\n",
       " 'rho': 6378137.0,\n",
       " 'theta': 1.5436502220529718,\n",
       " 'phi': 0.7450918301275852}"
      ]
     },
     "execution_count": 24,
     "metadata": {},
     "output_type": "execute_result"
    }
   ],
   "source": [
    "# Boulder Spherical Coordinates\n",
    "rho, theta, phi = cartestian_to_spherical(boulder_coords[\"cart_x\"], boulder_coords[\"cart_y\"], boulder_coords[\"cart_z\"])\n",
    "boulder_coords[\"rho\"] = rho\n",
    "boulder_coords[\"theta\"] = theta\n",
    "boulder_coords[\"phi\"] = phi\n",
    "boulder_coords"
   ]
  },
  {
   "cell_type": "code",
   "execution_count": 25,
   "id": "522f0900-d2d0-43de-b419-a10b77d2d9dd",
   "metadata": {},
   "outputs": [
    {
     "data": {
      "text/plain": [
       "{'latitude': 42.3601,\n",
       " 'longitude': -71.0589,\n",
       " 'cart_x': -8894.608669512068,\n",
       " 'cart_y': -327576.41664284625,\n",
       " 'cart_z': -6369713.193540589,\n",
       " 'rho': 6378137.0,\n",
       " 'theta': 1.5436502220529718,\n",
       " 'phi': 3.0901918301275884}"
      ]
     },
     "execution_count": 25,
     "metadata": {},
     "output_type": "execute_result"
    }
   ],
   "source": [
    "# Boston Spherical Coordinates\n",
    "rho, theta, phi = cartestian_to_spherical(boston_coords[\"cart_x\"], boston_coords[\"cart_y\"], boston_coords[\"cart_z\"])\n",
    "boston_coords[\"rho\"] = rho\n",
    "boston_coords[\"theta\"] = theta\n",
    "boston_coords[\"phi\"] = phi\n",
    "boston_coords"
   ]
  },
  {
   "cell_type": "markdown",
   "id": "27aba3a7-c6b6-4d04-86e8-6615d0e39aa2",
   "metadata": {},
   "source": [
    "https://www.nosco.ch/mathematics/en/great-circle.php"
   ]
  },
  {
   "cell_type": "code",
   "execution_count": 39,
   "id": "d783e207-06df-4f86-b2f0-b600511084d0",
   "metadata": {},
   "outputs": [],
   "source": [
    "## Return spherical and cartesian coordiantes dictionary for a new point\n",
    "\n",
    "def return_all_coords(latitude=None, longitude=None):\n",
    "    new_coords_dict = {\"latitude\": latitude, \"longitude\": longitude}\n",
    "    cart_x, cart_y, cart_z = latlon_to_cartesian_coords(latitude, longitude, earth_radius)\n",
    "    new_coords_dict[\"cart_x\"] = cart_x\n",
    "    new_coords_dict[\"cart_y\"] = cart_y\n",
    "    new_coords_dict[\"cart_z\"] = cart_z\n",
    "    rho, theta, phi = cartestian_to_spherical(new_coords_dict[\"cart_x\"], new_coords_dict[\"cart_y\"], new_coords_dict[\"cart_z\"])\n",
    "    new_coords_dict[\"rho\"] = rho\n",
    "    new_coords_dict[\"theta\"] = theta\n",
    "    new_coords_dict[\"phi\"] = phi\n",
    "    return new_coords_dict"
   ]
  },
  {
   "cell_type": "code",
   "execution_count": 27,
   "id": "0bb0cb60-6f31-4faa-bf3d-b5713cf6b0a3",
   "metadata": {},
   "outputs": [],
   "source": [
    "# pip install uxarray\n",
    "# pip install shapely\n",
    "# pip install Pillow\n",
    "# pip install pyparsing\n",
    "# pip install kiwisolver\n",
    "# pip install dask\n",
    "# python -m pip install \"dask[dataframe]\"\n",
    "# pip install fsspec\n",
    "import uxarray as ux"
   ]
  },
  {
   "cell_type": "markdown",
   "id": "80828857-e9a7-4892-b7c7-cd01ef056729",
   "metadata": {},
   "source": [
    "## gc_onarc: Determines if a point on the globe lies on a specified great circle arc"
   ]
  },
  {
   "cell_type": "markdown",
   "id": "1b9bfff4-bde0-4e70-86e4-9c12ef90da57",
   "metadata": {},
   "source": [
    "``\n",
    "uxarray.grid.arcs.point_within_gca(pt, gca_cart, is_directed=False)\n",
    "``\n",
    "- pt (numpy.ndarray (float)) – Cartesian coordinates of the point\n",
    "- gca_cart (numpy.ndarray of shape (2, 3), (np.float or gmpy2.mpfr)) – Cartesian coordinates of the Great Circle Arc (GCR)."
   ]
  },
  {
   "cell_type": "markdown",
   "id": "288a7bc2-64fa-40af-940f-f91f43764fa3",
   "metadata": {},
   "source": [
    "### Great Circle Arc"
   ]
  },
  {
   "cell_type": "code",
   "execution_count": 47,
   "id": "4a4c8ddf-d1da-4eae-af7d-257b8a82c944",
   "metadata": {},
   "outputs": [
    {
     "name": "stdout",
     "output_type": "stream",
     "text": [
      "(2, 3)\n"
     ]
    },
    {
     "data": {
      "text/plain": [
       "array([[ -117382.37626   , -4323034.28076309,  4688094.23709248],\n",
       "       [ -117382.37626   , -4323034.28076309,  4688094.23709248]])"
      ]
     },
     "execution_count": 47,
     "metadata": {},
     "output_type": "execute_result"
    }
   ],
   "source": [
    "# Great Circle Arc formed by cartesian coordinates of two points (Boulder -> Boston)\n",
    "boulder_point = np.array([boulder_coords[\"cart_x\"], boulder_coords[\"cart_y\"], boulder_coords[\"cart_z\"]])\n",
    "boston_point = np.array([boulder_coords[\"cart_x\"], boulder_coords[\"cart_y\"], boulder_coords[\"cart_z\"]])\n",
    "\n",
    "great_circle_arc = np.array([boulder_point, boston_point])\n",
    "print(great_circle_arc.shape)\n",
    "great_circle_arc"
   ]
  },
  {
   "cell_type": "markdown",
   "id": "eed240ca-2f76-468b-9d43-8345604ccabc",
   "metadata": {},
   "source": [
    "### Point along the great circle arc from Boulder to Boston: Cloverdale\n",
    "Arc determined via [great circle map](https://www.greatcirclemap.com/roadmap?routes=DEN-BOS) between DIA and Logan Airport"
   ]
  },
  {
   "cell_type": "code",
   "execution_count": 41,
   "id": "c0bfd28a-e6d0-4929-a958-6bf1de43d852",
   "metadata": {},
   "outputs": [
    {
     "data": {
      "text/plain": [
       "array([-2513713.48229094,  1357253.48920046,  5702608.09505361])"
      ]
     },
     "execution_count": 41,
     "metadata": {},
     "output_type": "execute_result"
    }
   ],
   "source": [
    "# Point along the great circle arc: Cloverdale\n",
    "cloverdale_lat = 38.8055\n",
    "cloverdale_lon = -123.0172\n",
    "cloverdale_coords = return_all_coords(cloverdale_lat, cloverdale_lon)\n",
    "point_on_arc = np.array([cloverdale_coords[\"cart_x\"], cloverdale_coords[\"cart_y\"], cloverdale_coords[\"cart_z\"]])\n",
    "point_on_arc"
   ]
  },
  {
   "cell_type": "code",
   "execution_count": 43,
   "id": "a5195769-b492-471d-92c5-58756e954bb1",
   "metadata": {},
   "outputs": [
    {
     "name": "stdout",
     "output_type": "stream",
     "text": [
      "Does the point lie on the great circle = True\n"
     ]
    }
   ],
   "source": [
    "does_point_lie_on_arc = ux.grid.arcs.point_within_gca(point_on_arc, great_circle_arc)\n",
    "print(f\"Does the point lie on the great circle = {does_point_lie_on_arc}\")"
   ]
  },
  {
   "cell_type": "markdown",
   "id": "1fd17211-d665-45f4-9068-fb6939d6fa69",
   "metadata": {},
   "source": [
    "### Point NOT along the great circle arc from Boulder to Boston: Wichita  "
   ]
  },
  {
   "cell_type": "code",
   "execution_count": 48,
   "id": "a1960433-09b1-4786-a139-a03e84b1d6ab",
   "metadata": {},
   "outputs": [
    {
     "data": {
      "text/plain": [
       "array([-6366484.73786982,  -377798.47782279,   -75973.57036748])"
      ]
     },
     "execution_count": 48,
     "metadata": {},
     "output_type": "execute_result"
    }
   ],
   "source": [
    "# Point NOT along the great circle arc: Wichita\n",
    "wichita_lat = 37.6872\n",
    "wichita_lon = -97.3301\n",
    "wichita_coords = return_all_coords(wichita_lat, wichita_lon)\n",
    "point_on_arc = np.array([wichita_coords[\"cart_x\"], wichita_coords[\"cart_y\"], wichita_coords[\"cart_z\"]])\n",
    "point_on_arc"
   ]
  },
  {
   "cell_type": "code",
   "execution_count": 49,
   "id": "4ad8f91d-0d55-4c62-b84f-90a5aac2807b",
   "metadata": {},
   "outputs": [
    {
     "name": "stdout",
     "output_type": "stream",
     "text": [
      "Does the point lie on the great circle = False\n"
     ]
    }
   ],
   "source": [
    "does_point_lie_on_arc = ux.grid.arcs.point_within_gca(point_on_arc, great_circle_arc)\n",
    "print(f\"Does the point lie on the great circle = {does_point_lie_on_arc}\")"
   ]
  },
  {
   "cell_type": "markdown",
   "id": "8e32fc0d-71af-4bf9-91be-dd51da340153",
   "metadata": {},
   "source": [
    "### Point ALMOST along the great circle arc from Boulder to Boston: Omaha   "
   ]
  },
  {
   "cell_type": "code",
   "execution_count": 50,
   "id": "48c6b453-c662-46a7-b057-3bfefdeaefa4",
   "metadata": {},
   "outputs": [
    {
     "data": {
      "text/plain": [
       "array([-6366484.73786982,  -377798.47782279,   -75973.57036748])"
      ]
     },
     "execution_count": 50,
     "metadata": {},
     "output_type": "execute_result"
    }
   ],
   "source": [
    "# Point NOT along the great circle arc: Omaha\n",
    "omaha_lat = 37.6872\n",
    "omaha_lon = -97.3301\n",
    "omaha_coords = return_all_coords(omaha_lat, omaha_lon)\n",
    "point_on_arc = np.array([omaha_coords[\"cart_x\"], omaha_coords[\"cart_y\"], omaha_coords[\"cart_z\"]])\n",
    "point_on_arc"
   ]
  },
  {
   "cell_type": "code",
   "execution_count": 51,
   "id": "e5049c1d-6227-4707-a511-9bf73543411b",
   "metadata": {},
   "outputs": [
    {
     "name": "stdout",
     "output_type": "stream",
     "text": [
      "Does the point lie on the great circle = False\n"
     ]
    }
   ],
   "source": [
    "does_point_lie_on_arc = ux.grid.arcs.point_within_gca(point_on_arc, great_circle_arc)\n",
    "print(f\"Does the point lie on the great circle = {does_point_lie_on_arc}\")"
   ]
  },
  {
   "cell_type": "markdown",
   "id": "66893f41-85bc-419f-83a4-db99a0ef0eff",
   "metadata": {},
   "source": [
    "> A great circle is a section of a sphere that contains a diamter of the sphere...A great circle becomes a straight line in a gnomoni c projection\n",
    "> To find the great circle (geodesic) distance between two points located at latitude `delta` and longitude `lambda` of (delta_1, lamba_1) and (delta_2, lambda_2) on a sphere of radius a\n",
    "\n",
    "[Wolfram MathWorld](https://mathworld.wolfram.com/GreatCircle.html)\n",
    "\n",
    "1. Convert spherical coordinates to Cartesian coordinates using:\n",
    "\n",
    "```\n",
    "        | cos(lambda_i) * cos(delta_i) |\n",
    "r_i = a | sin(lambda_i) * cos(delta_i) |\n",
    "        |        sin(delta_i)          |\n",
    "```\n",
    "2. Find the angle `alpha` between r1 and r2 using the dot product\n",
    "```\n",
    "cos(alpha) = r_1_hat * r_2_hat\n",
    "cos(alpha) = cos(delta_1) * cos(delta_2) * cos(lambda_1 - lambda_2) + sin(delta_1) * sin(delta_2)\n",
    "```\n",
    "3. The great circle distance is then: where a = 6378 km\n",
    "```\n",
    "d = a * cos^-1[cos(delta_1) * cos(delta_2) * cos(lambda_1 - lambda_2) + sin(delta_1) * sin(delta_2)]\n",
    "```"
   ]
  },
  {
   "cell_type": "markdown",
   "id": "200f431a-a0c8-4c26-9743-baab84579c51",
   "metadata": {},
   "source": [
    "- [gc_aangle](https://www.ncl.ucar.edu/Document/Functions/Built-in/gc_aangle.shtml):  Finds the acute angle between two great circles on the globe. \n",
    "- [gc_clkwise](https://www.ncl.ucar.edu/Document/Functions/Built-in/gc_clkwise.shtml):  Tests clockwise/counterclockwise ordering of points on spherical polygon. \n",
    "- [gc_dangle](https://www.ncl.ucar.edu/Document/Functions/Built-in/gc_dangle.shtml):  Finds the directed angle between two great circles having a specified intersection point. \n",
    "- [gc_inout](https://www.ncl.ucar.edu/Document/Functions/Built-in/gc_inout.shtml):  Determines if a list of lat/lon specified points are inside or outside of spherical lat/lon polygon(s). \n",
    "- [gc_latlon](https://www.ncl.ucar.edu/Document/Functions/Built-in/gc_latlon.shtml): Finds the great circle distance (true surface distance) between two points on the globe and interpolates points along the great circle. \n",
    "- [gc_onarc](https://www.ncl.ucar.edu/Document/Functions/Built-in/gc_onarc.shtml):  Determines if a point on the globe lies on a specified great circle arc. \n",
    "- [gc_pnt2gc](https://www.ncl.ucar.edu/Document/Functions/Built-in/gc_pnt2gc.shtml):  Finds the angular distance from a point to a great circle. \n",
    "- [gc_qarea](https://www.ncl.ucar.edu/Document/Functions/Built-in/gc_qarea.shtml):  Finds the area of a quadrilateral patch on the unit sphere. \n",
    "- [gc_tarea](https://www.ncl.ucar.edu/Document/Functions/Built-in/gc_tarea.shtml):  Finds the area of a triangular patch on the unit sphere. "
   ]
  },
  {
   "cell_type": "code",
   "execution_count": null,
   "id": "091a678a-e10c-4fda-8253-567e8afe4fc8",
   "metadata": {},
   "outputs": [],
   "source": [
    "from pyproj import Geod\n",
    "geodesic = Geod(ellps=\"WGS84\")"
   ]
  },
  {
   "cell_type": "markdown",
   "id": "a6913c2a-cef9-446a-9cb9-26e85d731e5b",
   "metadata": {},
   "source": [
    "## gc_aangle\n",
    "\n",
    "This function finds the acute angle between two great circles, given two pairs of points on the globe that define two arcs. \n",
    "\n",
    "### Input:\n",
    "Latitudes and longitudes, in degrees, of vertices. The first two pairs of lat/lon values specify vertices of an arc of one great circle and the second two pairs specify the vertices of the second circle. These can be multi-dimensional arrays, but the rightmost dimension size must be 4 for specifying the vertices of the two arcs. If lat and lon have more than one dimension, then they must agree in number of dimensions and dimension sizes.\n",
    "Return value\n",
    "### Output\n",
    "The acute angle, in degrees, between the great circles defined by the arcs as describe above. This will be a non-negative value. If the input arrays are singly dimensioned, then the return value will be a scalar. If the input arrays are multi-dimensional, then the returned array will have one less dimension than the number of dimensions of the input arrays and the dimension sizes of the returned array will agree with those of the input arrays up through their penultimate dimension. The return value will be of type double if either of the input arguments is of type double and type float otherwise."
   ]
  },
  {
   "cell_type": "code",
   "execution_count": null,
   "id": "3976bd7d-7777-4bc2-99ba-dbecedeba458",
   "metadata": {},
   "outputs": [],
   "source": [
    "aangle = ((0.0,  0.0, 0.0,  10.0), (0.0, 10.0, 0.0,   0.0))\n",
    "arc_1_start  = (aangle[0][0], aangle[1][0])\n",
    "arc_1_end    = (aangle[0][1], aangle[1][1])\n",
    "arc_2_start  = (aangle[0][2], aangle[1][2])\n",
    "arc_2_end    = (aangle[0][3], aangle[1][3])\n",
    "\n",
    "print(arc_1_start) # (lat, lon)\n",
    "print(arc_1_end)   # (lat, lon)\n",
    "\n",
    "print(arc_2_end)   # (lat, lon)\n",
    "print(arc_2_start) # (lat, lon)\n",
    "\n",
    "#fwd_bearing, rvs_bearing, distance_m = geodesic.inv(lon_start, lat_start, lon_end, lat_end)\n",
    "fwd_bearing, rvs_bearing, distance_m = geodesic.inv(arc_1_start[1],\n",
    "                                                    arc_1_start[0],\n",
    "                                                    arc_1_end[1],\n",
    "                                                    arc_1_end[0])\n",
    "print(f\"forward bearing = {fwd_bearing} degrees\")\n",
    "print(f\"reverse bearing = {rvs_bearing} degrees\")\n",
    "print(f\"distance_m = {distance_m/1000} km\")"
   ]
  }
 ],
 "metadata": {
  "kernelspec": {
   "display_name": "Python 3 (ipykernel)",
   "language": "python",
   "name": "python3"
  },
  "language_info": {
   "codemirror_mode": {
    "name": "ipython",
    "version": 3
   },
   "file_extension": ".py",
   "mimetype": "text/x-python",
   "name": "python",
   "nbconvert_exporter": "python",
   "pygments_lexer": "ipython3",
   "version": "3.11.8"
  }
 },
 "nbformat": 4,
 "nbformat_minor": 5
}
