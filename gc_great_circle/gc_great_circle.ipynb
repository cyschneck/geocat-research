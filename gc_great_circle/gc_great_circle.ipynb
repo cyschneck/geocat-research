{
 "cells": [
  {
   "cell_type": "markdown",
   "id": "849f89ee-e73c-407e-9ad0-f348b2441bde",
   "metadata": {},
   "source": [
    "## Great Circle Calculation\n",
    "- [gc_aangle](https://www.ncl.ucar.edu/Document/Functions/Built-in/gc_aangle.shtml):  Finds the acute angle between two great circles on the globe. \n",
    "- [gc_clkwise](https://www.ncl.ucar.edu/Document/Functions/Built-in/gc_clkwise.shtml):  Tests clockwise/counterclockwise ordering of points on spherical polygon. \n",
    "- [gc_dangle](https://www.ncl.ucar.edu/Document/Functions/Built-in/gc_dangle.shtml):  Finds the directed angle between two great circles having a specified intersection point. \n",
    "- [gc_inout](https://www.ncl.ucar.edu/Document/Functions/Built-in/gc_inout.shtml):  Determines if a list of lat/lon specified points are inside or outside of spherical lat/lon polygon(s). \n",
    "- [gc_latlon](https://www.ncl.ucar.edu/Document/Functions/Built-in/gc_latlon.shtml): Finds the great circle distance (true surface distance) between two points on the globe and interpolates points along the great circle. \n",
    "- [gc_onarc](https://www.ncl.ucar.edu/Document/Functions/Built-in/gc_onarc.shtml):  Determines if a point on the globe lies on a specified great circle arc. \n",
    "- [gc_pnt2gc](https://www.ncl.ucar.edu/Document/Functions/Built-in/gc_pnt2gc.shtml):  Finds the angular distance from a point to a great circle. \n",
    "- [gc_qarea](https://www.ncl.ucar.edu/Document/Functions/Built-in/gc_qarea.shtml):  Finds the area of a quadrilateral patch on the unit sphere. \n",
    "- [gc_tarea](https://www.ncl.ucar.edu/Document/Functions/Built-in/gc_tarea.shtml):  Finds the area of a triangular patch on the unit sphere. "
   ]
  },
  {
   "cell_type": "code",
   "execution_count": 29,
   "id": "091a678a-e10c-4fda-8253-567e8afe4fc8",
   "metadata": {},
   "outputs": [],
   "source": [
    "from pyproj import Geod\n",
    "geodesic = Geod(ellps=\"WGS84\")"
   ]
  },
  {
   "cell_type": "markdown",
   "id": "a6913c2a-cef9-446a-9cb9-26e85d731e5b",
   "metadata": {},
   "source": [
    "## gc_aangle\n",
    "\n",
    "This function finds the acute angle between two great circles, given two pairs of points on the globe that define two arcs. \n",
    "\n",
    "### Input:\n",
    "Latitudes and longitudes, in degrees, of vertices. The first two pairs of lat/lon values specify vertices of an arc of one great circle and the second two pairs specify the vertices of the second circle. These can be multi-dimensional arrays, but the rightmost dimension size must be 4 for specifying the vertices of the two arcs. If lat and lon have more than one dimension, then they must agree in number of dimensions and dimension sizes.\n",
    "Return value\n",
    "### Output\n",
    "The acute angle, in degrees, between the great circles defined by the arcs as describe above. This will be a non-negative value. If the input arrays are singly dimensioned, then the return value will be a scalar. If the input arrays are multi-dimensional, then the returned array will have one less dimension than the number of dimensions of the input arrays and the dimension sizes of the returned array will agree with those of the input arrays up through their penultimate dimension. The return value will be of type double if either of the input arguments is of type double and type float otherwise."
   ]
  },
  {
   "cell_type": "code",
   "execution_count": 57,
   "id": "3976bd7d-7777-4bc2-99ba-dbecedeba458",
   "metadata": {},
   "outputs": [
    {
     "name": "stdout",
     "output_type": "stream",
     "text": [
      "(0.0, 0.0)\n",
      "(0.0, 10.0)\n",
      "(10.0, 0.0)\n",
      "(0.0, 0.0)\n",
      "forward bearing = 90.0 degrees\n",
      "reverse bearing = -90.0 degrees\n",
      "distance_m = 1113.1949079327358 km\n"
     ]
    }
   ],
   "source": [
    "aangle = ((0.0,  0.0, 0.0,  10.0), (0.0, 10.0, 0.0,   0.0))\n",
    "arc_1_start  = (aangle[0][0], aangle[1][0])\n",
    "arc_1_end    = (aangle[0][1], aangle[1][1])\n",
    "arc_2_start  = (aangle[0][2], aangle[1][2])\n",
    "arc_2_end    = (aangle[0][3], aangle[1][3])\n",
    "\n",
    "print(arc_1_start) # (lat, lon)\n",
    "print(arc_1_end)   # (lat, lon)\n",
    "\n",
    "print(arc_2_end)   # (lat, lon)\n",
    "print(arc_2_start) # (lat, lon)\n",
    "\n",
    "#fwd_bearing, rvs_bearing, distance_m = geodesic.inv(lon_start, lat_start, lon_end, lat_end)\n",
    "fwd_bearing, rvs_bearing, distance_m = geodesic.inv(arc_1_start[1],\n",
    "                                                    arc_1_start[0],\n",
    "                                                    arc_1_end[1],\n",
    "                                                    arc_1_end[0])\n",
    "print(f\"forward bearing = {fwd_bearing} degrees\")\n",
    "print(f\"reverse bearing = {rvs_bearing} degrees\")\n",
    "print(f\"distance_m = {distance_m/1000} km\")"
   ]
  }
 ],
 "metadata": {
  "kernelspec": {
   "display_name": "Python 3 (ipykernel)",
   "language": "python",
   "name": "python3"
  },
  "language_info": {
   "codemirror_mode": {
    "name": "ipython",
    "version": 3
   },
   "file_extension": ".py",
   "mimetype": "text/x-python",
   "name": "python",
   "nbconvert_exporter": "python",
   "pygments_lexer": "ipython3",
   "version": "3.11.9"
  }
 },
 "nbformat": 4,
 "nbformat_minor": 5
}
